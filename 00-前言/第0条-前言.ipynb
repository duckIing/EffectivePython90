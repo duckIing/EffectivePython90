{
 "cells": [
  {
   "cell_type": "markdown",
   "source": [
    "注意事项：\n",
    "\n",
    "1-用符合python风格的方式编程；合理发挥python特性优势 —— 不滥用\n",
    "2-更有效地编写python代码；注意不是python代码的效率 —— 请用C/C++\n",
    "3-熟练python内置模块可以提高python代码编写效率 —— 还是要强调编写效率，而非代码执行效率，见第2条"
   ],
   "metadata": {
    "collapsed": false
   }
  },
  {
   "cell_type": "markdown",
   "source": [
    "END"
   ],
   "metadata": {
    "collapsed": false
   }
  },
  {
   "cell_type": "code",
   "execution_count": null,
   "outputs": [],
   "source": [],
   "metadata": {
    "collapsed": false
   }
  }
 ],
 "metadata": {
  "kernelspec": {
   "display_name": "Python 3",
   "language": "python",
   "name": "python3"
  },
  "language_info": {
   "codemirror_mode": {
    "name": "ipython",
    "version": 2
   },
   "file_extension": ".py",
   "mimetype": "text/x-python",
   "name": "python",
   "nbconvert_exporter": "python",
   "pygments_lexer": "ipython2",
   "version": "2.7.6"
  }
 },
 "nbformat": 4,
 "nbformat_minor": 0
}
