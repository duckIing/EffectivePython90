{
 "cells": [
  {
   "cell_type": "code",
   "execution_count": 1,
   "metadata": {
    "collapsed": true
   },
   "outputs": [
    {
     "name": "stdout",
     "output_type": "stream",
     "text": [
      "The Zen of Python, by Tim Peters\n",
      "\n",
      "Beautiful is better than ugly.\n",
      "Explicit is better than implicit.\n",
      "Simple is better than complex.\n",
      "Complex is better than complicated.\n",
      "Flat is better than nested.\n",
      "Sparse is better than dense.\n",
      "Readability counts.\n",
      "Special cases aren't special enough to break the rules.\n",
      "Although practicality beats purity.\n",
      "Errors should never pass silently.\n",
      "Unless explicitly silenced.\n",
      "In the face of ambiguity, refuse the temptation to guess.\n",
      "There should be one-- and preferably only one --obvious way to do it.\n",
      "Although that way may not be obvious at first unless you're Dutch.\n",
      "Now is better than never.\n",
      "Although never is often better than *right* now.\n",
      "If the implementation is hard to explain, it's a bad idea.\n",
      "If the implementation is easy to explain, it may be a good idea.\n",
      "Namespaces are one honking great idea -- let's do more of those!\n"
     ]
    }
   ],
   "source": [
    "# 查看 python之禅\n",
    "import this"
   ]
  },
  {
   "cell_type": "code",
   "execution_count": 3,
   "outputs": [],
   "source": [
    "zen_of_python = \"\"\"\n",
    "《Python之禅》，蒂姆·彼得斯著\n",
    "\n",
    "漂亮胜于丑陋。\n",
    "显式比隐式好。\n",
    "简单胜于复杂。\n",
    "复杂胜于复杂。\n",
    "扁平比嵌套好。\n",
    "稀疏胜于稠密。\n",
    "可读性。\n",
    "特殊情况没有特殊到可以打破规则。\n",
    "尽管实用胜于纯粹。\n",
    "错误不应该悄无声息地传递。\n",
    "除非有明确的沉默。\n",
    "面对模棱两可，拒绝猜测的诱惑。\n",
    "应该有一种——最好只有一种——明显的方法来做到这一点。\n",
    "尽管这种方式一开始可能并不明显，除非你是荷兰人。\n",
    "现在总比没有好。\n",
    "尽管“从不”往往比“现在”要好。\n",
    "如果实现很难解释，那就不是一个好主意。\n",
    "如果实现很容易解释，那么它可能是一个好主意。\n",
    "命名空间是一个非常棒的主意——让我们做更多的命名空间!\n",
    "\"\"\""
   ],
   "metadata": {
    "collapsed": false
   }
  },
  {
   "cell_type": "code",
   "execution_count": null,
   "outputs": [],
   "source": [],
   "metadata": {
    "collapsed": false
   }
  }
 ],
 "metadata": {
  "kernelspec": {
   "display_name": "Python 3",
   "language": "python",
   "name": "python3"
  },
  "language_info": {
   "codemirror_mode": {
    "name": "ipython",
    "version": 2
   },
   "file_extension": ".py",
   "mimetype": "text/x-python",
   "name": "python",
   "nbconvert_exporter": "python",
   "pygments_lexer": "ipython2",
   "version": "2.7.6"
  }
 },
 "nbformat": 4,
 "nbformat_minor": 0
}
