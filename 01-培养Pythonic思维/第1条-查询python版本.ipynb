{
 "cells": [
  {
   "cell_type": "markdown",
   "metadata": {},
   "source": [
    "# zen of python"
   ]
  },
  {
   "cell_type": "code",
   "execution_count": 3,
   "metadata": {},
   "outputs": [],
   "source": [
    "# 查看 python之禅\n",
    "import this"
   ]
  },
  {
   "cell_type": "code",
   "execution_count": 4,
   "metadata": {},
   "outputs": [],
   "source": [
    "zen_of_python = \"\"\"\n",
    "《Python之禅》，蒂姆·彼得斯著\n",
    "\n",
    "漂亮胜于丑陋。\n",
    "显式比隐式好。\n",
    "简单胜于复杂。\n",
    "复杂胜于复杂。\n",
    "扁平比嵌套好。\n",
    "稀疏胜于稠密。\n",
    "可读性。\n",
    "特殊情况没有特殊到可以打破规则。\n",
    "尽管实用胜于纯粹。\n",
    "错误不应该悄无声息地传递。\n",
    "除非有明确的沉默。\n",
    "面对模棱两可，拒绝猜测的诱惑。\n",
    "应该有一种——最好只有一种——明显的方法来做到这一点。\n",
    "尽管这种方式一开始可能并不明显，除非你是荷兰人。\n",
    "现在总比没有好。\n",
    "尽管“从不”往往比“现在”要好。\n",
    "如果实现很难解释，那就不是一个好主意。\n",
    "如果实现很容易解释，那么它可能是一个好主意。\n",
    "命名空间是一个非常棒的主意——让我们做更多的命名空间!\n",
    "\"\"\""
   ]
  },
  {
   "cell_type": "markdown",
   "source": [
    "# 查看python版本"
   ],
   "metadata": {
    "collapsed": false
   }
  },
  {
   "cell_type": "code",
   "execution_count": 5,
   "outputs": [
    {
     "data": {
      "text/plain": "'3.9.15 (main, Nov 24 2022, 08:28:41) \\n[Clang 14.0.6 ]'"
     },
     "execution_count": 5,
     "metadata": {},
     "output_type": "execute_result"
    }
   ],
   "source": [
    "import sys\n",
    "\n",
    "sys.version"
   ],
   "metadata": {
    "collapsed": false
   }
  },
  {
   "cell_type": "code",
   "execution_count": 6,
   "outputs": [
    {
     "data": {
      "text/plain": "sys.version_info(major=3, minor=9, micro=15, releaselevel='final', serial=0)"
     },
     "execution_count": 6,
     "metadata": {},
     "output_type": "execute_result"
    }
   ],
   "source": [
    "sys.version_info"
   ],
   "metadata": {
    "collapsed": false
   }
  },
  {
   "cell_type": "code",
   "execution_count": null,
   "outputs": [],
   "source": [],
   "metadata": {
    "collapsed": false
   }
  }
 ],
 "metadata": {
  "kernelspec": {
   "display_name": "Python 3 (ipykernel)",
   "language": "python",
   "name": "python3"
  },
  "language_info": {
   "codemirror_mode": {
    "name": "ipython",
    "version": 3
   },
   "file_extension": ".py",
   "mimetype": "text/x-python",
   "name": "python",
   "nbconvert_exporter": "python",
   "pygments_lexer": "ipython3",
   "version": "3.9.15"
  }
 },
 "nbformat": 4,
 "nbformat_minor": 1
}
